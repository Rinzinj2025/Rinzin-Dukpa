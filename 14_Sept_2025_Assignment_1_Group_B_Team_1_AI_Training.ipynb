{
  "nbformat": 4,
  "nbformat_minor": 0,
  "metadata": {
    "colab": {
      "provenance": []
    },
    "kernelspec": {
      "name": "python3",
      "display_name": "Python 3"
    },
    "language_info": {
      "name": "python"
    }
  },
  "cells": [
    {
      "cell_type": "markdown",
      "source": [
        "14 Sept 2025 Assignment 1 Group B Team 1 AI Training"
      ],
      "metadata": {
        "id": "qM9q5y_pFYGL"
      }
    },
    {
      "cell_type": "code",
      "execution_count": null,
      "metadata": {
        "id": "5YniYYEZFKpK"
      },
      "outputs": [],
      "source": []
    },
    {
      "cell_type": "markdown",
      "source": [
        "Conditional Statements"
      ],
      "metadata": {
        "id": "bwF03eiRFsHd"
      }
    },
    {
      "cell_type": "code",
      "source": [
        "# Else\n",
        "age = 12\n",
        "if age <= 12:\n",
        "  print(\"Your ticket price is: 300\")\n",
        "elif age <= 17:\n",
        "  print(\"Your ticket price is: 500\")\n",
        "elif age <= 59:\n",
        "  print(\"Your ticket price is: 800\")\n",
        "else:\n",
        "  print(\"Your ticket price is: 400\")"
      ],
      "metadata": {
        "colab": {
          "base_uri": "https://localhost:8080/"
        },
        "id": "fwKWX_zQFzMG",
        "outputId": "0603eaec-e746-432a-b7f0-2c372a63fc33"
      },
      "execution_count": 6,
      "outputs": [
        {
          "output_type": "stream",
          "name": "stdout",
          "text": [
            "Your ticket price is: 300\n"
          ]
        }
      ]
    },
    {
      "cell_type": "code",
      "source": [
        " # Else\n",
        "age = 55\n",
        "if age <= 12:\n",
        "  print(\"Your ticket price is: 300\")\n",
        "elif age <= 17:\n",
        "  print(\"Your ticket price is: 500\")\n",
        "elif age <= 59:\n",
        "  print(\"Your ticket price is: 800\")\n",
        "else:\n",
        "  print(\"cYour ticket price is: 400\")"
      ],
      "metadata": {
        "colab": {
          "base_uri": "https://localhost:8080/"
        },
        "id": "_TZFgCiaJSWL",
        "outputId": "c0b3f593-40b0-4953-dc8c-79275fc259b4"
      },
      "execution_count": 8,
      "outputs": [
        {
          "output_type": "stream",
          "name": "stdout",
          "text": [
            "Your ticket price is: 800\n"
          ]
        }
      ]
    },
    {
      "cell_type": "code",
      "source": [
        " # Else\n",
        "age = 61\n",
        "if age <= 12:\n",
        "  print(\"Your ticket price is: 300\")\n",
        "elif age <= 17:\n",
        "  print(\"Your ticket price is: 500\")\n",
        "elif age <= 59:\n",
        "  print(\"Your ticket price is: 800\")\n",
        "else:\n",
        "  print(\"Your ticket price is: 400\")"
      ],
      "metadata": {
        "colab": {
          "base_uri": "https://localhost:8080/"
        },
        "id": "cFVqfpfFJmeE",
        "outputId": "6621e395-a568-4e72-9768-a9dfa6cbdb34"
      },
      "execution_count": 7,
      "outputs": [
        {
          "output_type": "stream",
          "name": "stdout",
          "text": [
            "Your ticket price is: 400\n"
          ]
        }
      ]
    },
    {
      "cell_type": "markdown",
      "source": [
        "Assignment 2 : Number Guessing Game using \"While Loop\""
      ],
      "metadata": {
        "id": "2fvv3m7OL5c5"
      }
    },
    {
      "cell_type": "code",
      "source": [
        "# Assignment 2: Number Guessing Game\n",
        "\n",
        "# Step 1: Pick a secret number\n",
        "secret_number = 7\n",
        "\n",
        "# Step 2: Ask the user to guess\n",
        "guess = None  # initialize variable\n",
        "\n",
        "while guess != secret_number:\n",
        "    guess = int(input(\"Guess the number: \"))  # take input as integer\n",
        "\n",
        "    if guess != secret_number:\n",
        "        print(\"Wrong guess, try again!\")\n",
        "\n",
        "# Step 3: When correct\n",
        "print(\"🎉 Congratulations! You guessed correctly.\")"
      ],
      "metadata": {
        "colab": {
          "base_uri": "https://localhost:8080/"
        },
        "id": "_jG35OyVL9rQ",
        "outputId": "04667f9f-cdbc-42e5-d8dc-39f4164f22fb"
      },
      "execution_count": 10,
      "outputs": [
        {
          "output_type": "stream",
          "name": "stdout",
          "text": [
            "Guess the number: 1\n",
            "Wrong guess, try again!\n",
            "Guess the number: 7\n",
            "🎉 Congratulations! You guessed correctly.\n"
          ]
        }
      ]
    }
  ]
}